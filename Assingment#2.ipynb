{
 "cells": [
  {
   "cell_type": "code",
   "execution_count": 1,
   "metadata": {},
   "outputs": [
    {
     "name": "stdout",
     "output_type": "stream",
     "text": [
      "Check your progress\n"
     ]
    },
    {
     "name": "stdin",
     "output_type": "stream",
     "text": [
      "Please Enter your first subject 90\n",
      "Please Enter your second subject 58\n",
      "Please Enter your third subject 90\n",
      "Please Enter your fourth subject 87\n",
      "Please Enter your fifth subject 66\n"
     ]
    },
    {
     "name": "stdout",
     "output_type": "stream",
     "text": [
      "Grade B\n"
     ]
    }
   ],
   "source": [
    "print(\"Check your progress\")\n",
    "subject1 = int(input(\"Please Enter your first subject\"))\n",
    "subject2 = int(input(\"Please Enter your second subject\"))\n",
    "subject3 = int(input(\"Please Enter your third subject\"))\n",
    "subject4 = int(input(\"Please Enter your fourth subject\"))\n",
    "subject5 = int(input(\"Please Enter your fifth subject\"))\n",
    "average = (subject1+subject2+subject3+subject4+subject1)/5\n",
    "if (average>=90):\n",
    "    print(\"Grade A\")\n",
    "elif(average>=80 and average<90):\n",
    "    print(\"Grade B\")\n",
    "elif(average>=70 and average<80):\n",
    "    print(\"Grade C\")\n",
    "elif(average>=60 and average<70):\n",
    "    print(\"Grade D\")\n",
    "else:\n",
    "    print(\"Try again better luck next time\")\n"
   ]
  },
  {
   "cell_type": "code",
   "execution_count": 1,
   "metadata": {},
   "outputs": [
    {
     "name": "stdout",
     "output_type": "stream",
     "text": [
      "Write a program which take input from user and identify that the given number is even or odd?\n"
     ]
    },
    {
     "name": "stdin",
     "output_type": "stream",
     "text": [
      "Enter a number 13\n"
     ]
    },
    {
     "name": "stdout",
     "output_type": "stream",
     "text": [
      "The given number is Odd\n"
     ]
    }
   ],
   "source": [
    "print(\"Write a program which take input from user and identify that the given number is even or odd?\")\n",
    "num = int(input(\"Enter a number\"))\n",
    "mod = num % 2\n",
    "if (mod > 0):\n",
    "    print(\"The given number is Odd\")\n",
    "else:\n",
    "    print(\"The given number is Even\")"
   ]
  },
  {
   "cell_type": "code",
   "execution_count": 1,
   "metadata": {},
   "outputs": [
    {
     "name": "stdout",
     "output_type": "stream",
     "text": [
      " The length of the list?\n",
      "The length of the list:  4\n"
     ]
    }
   ],
   "source": [
    "print(\" The length of the list?\")\n",
    "le = []\n",
    "le.append(\"Python\")\n",
    "le.append(\"Web developer\")\n",
    "le.append(\"Android developer\")\n",
    "le.append(\"Ios developer\")\n",
    "print(\"The length of the list: \", len(le))"
   ]
  },
  {
   "cell_type": "code",
   "execution_count": 3,
   "metadata": {},
   "outputs": [
    {
     "name": "stdout",
     "output_type": "stream",
     "text": [
      "program to sum all the numeric items in a list?\n"
     ]
    },
    {
     "name": "stdin",
     "output_type": "stream",
     "text": [
      "how many number in list 3\n",
      "Enter your number 13\n",
      "Enter your number 23\n",
      "Enter your number 33\n"
     ]
    },
    {
     "name": "stdout",
     "output_type": "stream",
     "text": [
      "The Sum of the list:  33\n"
     ]
    }
   ],
   "source": [
    "print(\"program to sum all the numeric items in a list?\")\n",
    "le = []\n",
    "num = int(input(\"how many number in list\"))\n",
    "for n in range(num):\n",
    "    numbers = int(input(\"Enter your number\"))\n",
    "le.append(numbers)\n",
    "print(\"The Sum of the list: \", sum(le))"
   ]
  },
  {
   "cell_type": "code",
   "execution_count": 5,
   "metadata": {},
   "outputs": [
    {
     "name": "stdout",
     "output_type": "stream",
     "text": [
      "[1, 1, 2, 3]\n"
     ]
    }
   ],
   "source": [
    "a = [1, 1, 2, 3, 5, 8, 13, 21, 34, 55, 89]\n",
    "x=[i for i in a if i <5]\n",
    "print(x)"
   ]
  },
  {
   "cell_type": "code",
   "execution_count": 1,
   "metadata": {},
   "outputs": [
    {
     "name": "stdin",
     "output_type": "stream",
     "text": [
      "How many numbers:  2\n",
      "Enter number  15\n",
      "Enter number  89\n"
     ]
    },
    {
     "name": "stdout",
     "output_type": "stream",
     "text": [
      "Maximum element in the list is : 89\n"
     ]
    }
   ],
   "source": [
    " lst = []\n",
    "num = int(input('How many numbers: '))\n",
    "for n in range(num):\n",
    "    numbers = int(input('Enter number '))\n",
    "    lst.append(numbers)\n",
    "print(\"Maximum element in the list is :\", max(lst))"
   ]
  },
  {
   "cell_type": "code",
   "execution_count": null,
   "metadata": {},
   "outputs": [],
   "source": []
  }
 ],
 "metadata": {
  "kernelspec": {
   "display_name": "Python 3",
   "language": "python",
   "name": "python3"
  },
  "language_info": {
   "codemirror_mode": {
    "name": "ipython",
    "version": 3
   },
   "file_extension": ".py",
   "mimetype": "text/x-python",
   "name": "python",
   "nbconvert_exporter": "python",
   "pygments_lexer": "ipython3",
   "version": "3.7.3"
  }
 },
 "nbformat": 4,
 "nbformat_minor": 4
}
