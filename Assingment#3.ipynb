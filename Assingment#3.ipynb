{
 "cells": [
  {
   "cell_type": "code",
   "execution_count": 1,
   "metadata": {},
   "outputs": [
    {
     "name": "stdout",
     "output_type": "stream",
     "text": [
      "Welcome To Python's World\n"
     ]
    },
    {
     "name": "stdin",
     "output_type": "stream",
     "text": [
      "Enter Your First Number 56\n",
      "Enter Your Second Number 44\n",
      "Enter Your Operation Add\n"
     ]
    },
    {
     "name": "stdout",
     "output_type": "stream",
     "text": [
      "100 answer\n"
     ]
    }
   ],
   "source": [
    "print(\"Welcome To Python's World\")\n",
    "var1 = int(input(\"Enter Your First Number\"))\n",
    "var2 = int(input(\"Enter Your Second Number\"))\n",
    "operation = input(\"Enter Your Operation\")\n",
    "if operation == \"Add\":\n",
    "    val=var1 + var2\n",
    "    print(val,\"answer\")\n",
    "elif operation == \"Sub\":\n",
    "    val=var1 - var2\n",
    "    print(val,\"answer\")    \n",
    "elif operation == \"Mul\":\n",
    "    val=var1 * var2\n",
    "    print(val,\"answer\")\n",
    "elif operation == \"Div\":\n",
    "    val=var1 / var2\n",
    "    print(val,\"answer\")\n",
    "elif operation == \"Power\":\n",
    "    val=var1 ** var2\n",
    "    print(val,\"answer\")\n",
    "else:\n",
    "    print(\"Please Check your incoreect operation\")"
   ]
  },
  {
   "cell_type": "code",
   "execution_count": 3,
   "metadata": {},
   "outputs": [
    {
     "name": "stdin",
     "output_type": "stream",
     "text": [
      "Enter Your Value 6\n"
     ]
    },
    {
     "name": "stdout",
     "output_type": "stream",
     "text": [
      "Checking if Numeric Value exists in list ( using loop ) : \n",
      "Numeric Value Exists\n"
     ]
    }
   ],
   "source": [
    "Numeric_list = [ 1, 6, 3, 5, 3, 4 ] \n",
    "Numeric_list = str(input(\"Enter Your Value\")) \n",
    "print(\"Checking if Numeric Value exists in list ( using loop ) : \") \n",
    "for i in Numeric_list: \n",
    "    if(i == Numeric_list) : \n",
    "        print (\"Numeric Value Exists\") "
   ]
  },
  {
   "cell_type": "code",
   "execution_count": 4,
   "metadata": {},
   "outputs": [
    {
     "name": "stdout",
     "output_type": "stream",
     "text": [
      "Welcome to Our dictionary\n",
      "{'brand': 'Samsung', 'model': 'glaxy s4', 'year': 2018, 'color': 'red'}\n"
     ]
    }
   ],
   "source": [
    "print(\"Welcome to Our dictionary\")\n",
    "thisdict =\t{\n",
    "  \"brand\": \"Samsung\",\n",
    "  \"model\": \"glaxy s4\",\n",
    "  \"year\": 2018\n",
    "}\n",
    "thisdict[\"color\"] = \"red\"\n",
    "print(thisdict)"
   ]
  },
  {
   "cell_type": "code",
   "execution_count": 5,
   "metadata": {},
   "outputs": [
    {
     "name": "stdout",
     "output_type": "stream",
     "text": [
      "Sum : 600\n"
     ]
    }
   ],
   "source": [
    "def returnSum(myDict):\n",
    "     \n",
    "    sum = 0\n",
    "    for i in myDict:\n",
    "        sum = sum + myDict[i]\n",
    "     \n",
    "    return sum\n",
    " \n",
    "\n",
    "dict = {'a': 100, 'b':200, 'c':300}\n",
    "print(\"Sum :\", returnSum(dict))"
   ]
  },
  {
   "cell_type": "code",
   "execution_count": 6,
   "metadata": {},
   "outputs": [
    {
     "name": "stdout",
     "output_type": "stream",
     "text": [
      "[10, 20, 30, 40, 50]\n"
     ]
    }
   ],
   "source": [
    "def unique_list(list):\n",
    "    uniq_list = []\n",
    "    uniq_set = set()\n",
    "    for item in list:\n",
    "        if item not in uniq_set:\n",
    "            uniq_list.append(item)\n",
    "            uniq_set.add(item)\n",
    "    return uniq_list\n",
    " \n",
    "list = [10,20,30,10,10,30,40,50]\n",
    "print(unique_list(list))"
   ]
  },
  {
   "cell_type": "code",
   "execution_count": 7,
   "metadata": {},
   "outputs": [
    {
     "name": "stdout",
     "output_type": "stream",
     "text": [
      "Present,  value = 200\n",
      "Not present\n"
     ]
    }
   ],
   "source": [
    "def checkKey(dict, key): \n",
    "      \n",
    "    if key in dict: \n",
    "        print(\"Present, \", end =\" \") \n",
    "        print(\"value =\", dict[key]) \n",
    "    else: \n",
    "        print(\"Not present\") \n",
    "  \n",
    " \n",
    "dict = {'a': 100, 'b':200, 'c':300} \n",
    "  \n",
    "key = 'b'\n",
    "checkKey(dict, key) \n",
    "  \n",
    "key = 'w'\n",
    "checkKey(dict, key) "
   ]
  },
  {
   "cell_type": "code",
   "execution_count": null,
   "metadata": {},
   "outputs": [],
   "source": []
  }
 ],
 "metadata": {
  "kernelspec": {
   "display_name": "Python 3",
   "language": "python",
   "name": "python3"
  },
  "language_info": {
   "codemirror_mode": {
    "name": "ipython",
    "version": 3
   },
   "file_extension": ".py",
   "mimetype": "text/x-python",
   "name": "python",
   "nbconvert_exporter": "python",
   "pygments_lexer": "ipython3",
   "version": "3.7.3"
  }
 },
 "nbformat": 4,
 "nbformat_minor": 4
}
